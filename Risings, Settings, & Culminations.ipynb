{
 "cells": [
  {
   "cell_type": "markdown",
   "metadata": {},
   "source": [
    "# Finding Risings, Settings, and Culminations\n",
    "\n",
    "This notebook describes functions that find times of risings/settings, and also times of culminations. Both of these functions work for ephemeris objects, `Star` objects, or `EarthSatellite` objects. I will also describe ways to test the times found by these functions. The tests show that for the cases tested the times found by `risings_settings` are within 1ms, and those found by `culminations` are within 6 ms.\n",
    "\n",
    "The use of these functions is pretty simple and clean, for example here is the code to find the times of all sunrises in january 2018 from greenwich:\n",
    "\n",
    "```\n",
    "ephem = load('de430t.bsp')\n",
    "earth = ephem['earth']\n",
    "sun = ephem['sun']\n",
    "greenwich = earth + Topos('51.5 N', '0 W')\n",
    "time_range = ts.utc(2017, [1,2])\n",
    "\n",
    "sunrise_times = risings_settings(greenwich, sun, timerange, kind='rise')[0]\n",
    "```\n",
    "\n",
    "## Imports\n",
    "To start we'll import all the functions and classes we'll need, and create a few sample object to work with:"
   ]
  },
  {
   "cell_type": "code",
   "execution_count": 20,
   "metadata": {},
   "outputs": [],
   "source": [
    "from scipy.optimize import brentq, minimize_scalar\n",
    "from scipy.misc import derivative\n",
    "from skyfield.api import Loader, Topos, Star, EarthSatellite, Time\n",
    "from skyfield.constants import tau\n",
    "from functools import partial\n",
    "from numpy import arange, array, argsort, ndarray, repeat, concatenate, degrees, arcsin, linspace\n",
    "from warnings import warn\n",
    "\n",
    "load = Loader(r'C:\\Users\\Josh\\Scripts\\Skyfield_Data')\n",
    "\n",
    "ts = load.timescale()\n",
    "\n",
    "ephem = load('de430t.bsp')\n",
    "earth = ephem['earth']\n",
    "sun = ephem['sun']\n",
    "moon = ephem['moon']\n",
    "mars = ephem['mars barycenter']\n",
    "\n",
    "satellites = load.tle(r'stations.txt')\n",
    "ISS = earth + satellites['ISS']\n",
    "\n",
    "greenwich = earth + Topos('51.5 N', '0 W')"
   ]
  },
  {
   "cell_type": "markdown",
   "metadata": {},
   "source": [
    "## Functions that we'll need later\n",
    "We'll create a function that will test if an object represents an `EarthSatellite`. It returns true for either an `EarthSatellite` object, or a `VectorSum` from the Solar System Barycenter to an `EarthSatellite` object, and false otherwise."
   ]
  },
  {
   "cell_type": "code",
   "execution_count": 21,
   "metadata": {},
   "outputs": [],
   "source": [
    "def _is_satellite(body):\n",
    "    if isinstance(body, EarthSatellite):\n",
    "        return True\n",
    "    elif getattr(body, 'positives', ()) and isinstance(body.positives[-1], EarthSatellite):\n",
    "        return True\n",
    "    else:\n",
    "        return False"
   ]
  },
  {
   "cell_type": "markdown",
   "metadata": {},
   "source": [
    "We're also going to need some scalar functions to submit to the scipy root and minimum finding routines. These functions need to have a single scalar argument and return a single scalar. First we'll define functions for finding altitude that are *not* scalar functions, and then use `functools.partial` to fix all arguments except the time."
   ]
  },
  {
   "cell_type": "code",
   "execution_count": 22,
   "metadata": {},
   "outputs": [],
   "source": [
    "def _alt(observer, body, t):\n",
    "    \"\"\"Returns the altitude of `body` in degrees when seen from `observer` at \n",
    "    terrestrial time `t`.\n",
    "    \"\"\"\n",
    "    return observer.at(ts.tt(jd=t)).observe(body).apparent().altaz()[0].degrees\n",
    "\n",
    "\n",
    "def _moon_ul_alt(observer, earth, moon, t):\n",
    "    \"\"\"Returns the altitude of the moon's upper limb in degrees when seen from\n",
    "    observer at terrestrial time t.\n",
    "    \n",
    "    Calculates the moon's semidiameter from the geocenter\n",
    "    \"\"\"\n",
    "    moon_distance = earth.at(ts.tt(jd=t)).observe(moon).apparent().distance().au\n",
    "    moon_radius = 1.161781e-5 #au\n",
    "    moon_sd = degrees(arcsin(moon_radius/moon_distance))\n",
    "    return _alt(observer, moon, t) + moon_sd\n",
    "\n",
    "\n",
    "def _satellite_alt(observer, satellite, t):\n",
    "    \"\"\"Returns the altitude of `satellite` in degrees when seen from `observer` \n",
    "    at terrestrial time `t`.\n",
    "    \"\"\"\n",
    "    return (satellite - observer).at(ts.tt(jd=t)).altaz()[0].degrees"
   ]
  },
  {
   "cell_type": "markdown",
   "metadata": {},
   "source": [
    "For example, we could create a scalar function for the sun's altitude from greenwich like this:"
   ]
  },
  {
   "cell_type": "code",
   "execution_count": 23,
   "metadata": {},
   "outputs": [
    {
     "data": {
      "text/plain": [
       "-61.51302791815447"
      ]
     },
     "execution_count": 23,
     "metadata": {},
     "output_type": "execute_result"
    }
   ],
   "source": [
    "sun_altitude = partial(_alt, greenwich, sun)\n",
    "time = ts.utc(2018).tt\n",
    "\n",
    "sun_altitude(time)"
   ]
  },
  {
   "cell_type": "markdown",
   "metadata": {},
   "source": [
    "## Finding Culminations\n",
    "\n",
    "To find culminations we need a function that will find maximums and minimums in scalar functions:"
   ]
  },
  {
   "cell_type": "code",
   "execution_count": 24,
   "metadata": {},
   "outputs": [],
   "source": [
    "def _find_extremes(f, partition_edges, find='min', xtol=1e-9):\n",
    "    \"\"\"Returns a list of times when ``f`` is at a local extreme.\n",
    "    \n",
    "    ``f`` should be sinusoidal and it should not have any discontinuities. \n",
    "    \n",
    "    The partitions should be small enough that no partition can contain \n",
    "    multiple extrema.\n",
    "    \n",
    "    Arguments\n",
    "    ---------\n",
    "    f : function\n",
    "        The function to be searched. Should accept a single float as an \n",
    "        argument, and return a single float\n",
    "    partition_edges : list\n",
    "        A list of floats representing terrestrial times in jd format\n",
    "    find : str\n",
    "        ``'min'`` to find minimums\n",
    "        ``'max'`` to find maximums\n",
    "    xtol : float\n",
    "        Tolerance to be used by the scipy finding function\n",
    "    \n",
    "    Returns\n",
    "    -------\n",
    "    times : list\n",
    "        List t values where f(t) is a local extreme\n",
    "    \"\"\"\n",
    "    # if find='max', reflect the function around the horizontal axis so the \n",
    "    # maximums become minimums.\n",
    "    if find == 'min':\n",
    "        g = f\n",
    "    elif find == 'max':\n",
    "        g = lambda t:-f(t) + 360\n",
    "\n",
    "    g_dot_edges = derivative(g, array(partition_edges), dx=1e-6)\n",
    "\n",
    "    result_times = []\n",
    "    num_partitions = len(partition_edges) - 1\n",
    "    for i in range(num_partitions):\n",
    "        if g_dot_edges[i] < 0 and g_dot_edges[i+1] > 0:\n",
    "            left_edge = partition_edges[i]\n",
    "            right_edge = partition_edges[i+1]\n",
    "\n",
    "            result = minimize_scalar(g, (left_edge, right_edge), options={'xtol':xtol})\n",
    "            result_times.append(result['x'])\n",
    "            if not result['success']:\n",
    "                warn('The root-finder failed to converge. xtol may be too small.')\n",
    "    return result_times"
   ]
  },
  {
   "cell_type": "markdown",
   "metadata": {},
   "source": [
    "To use `_find_extremes` you provide it a scalar function in which to search, as well as a list of times that divide the scalar function into partitions, such that each partition contains at most one extreme. `_find_extremes` iterates through the partitions looking for where the derivative changes sign, and if it finds one, it uses `scipy.optimize.minimize_scalar` to find the exact time of the extreme.\n",
    "\n",
    "For example, let's use `_find_extremes` to find culminations of the sun at greenwich in the first week of 2018. In order to correctly find every culmination, the partition edges must be chosen so that no partition contains more than one extreme, therefore each partition must be less than about 12 hours. Dividing the 7 days up into 20 will be fine."
   ]
  },
  {
   "cell_type": "code",
   "execution_count": 25,
   "metadata": {},
   "outputs": [
    {
     "data": {
      "text/plain": [
       "[2458120.004441994,\n",
       " 2458121.0043770075,\n",
       " 2458122.004543944,\n",
       " 2458123.0047648535,\n",
       " 2458124.004345548,\n",
       " 2458125.0042219716,\n",
       " 2458126.0064726137]"
      ]
     },
     "execution_count": 25,
     "metadata": {},
     "output_type": "execute_result"
    }
   ],
   "source": [
    "sun_altitude = partial(_alt, greenwich, sun)\n",
    "partition_edges = ts.utc(2018, 1, linspace(1,8,20)).tt\n",
    "\n",
    "_find_extremes(sun_altitude, partition_edges, find='max')"
   ]
  },
  {
   "cell_type": "markdown",
   "metadata": {},
   "source": [
    "We can tell that these are very close to noon since they are close to being integers. I will show these points plotted on the altitude curve further below.\n",
    "\n",
    "This same function will find other phenomena that are maximums and minimums of sinusoidal functions, such as apsides, which are extremes of distance between a body and its primary, extreme ecliptic latitudes, and extreme elongations.\n",
    "\n",
    "It's still a little inconvenient to use this function; to do so you have to create your own partial function, calculate appropriate partitions, and if you want upper and lower culminations, you have to call it multiple times. Instead we'll create a function that will take care of all those things for us:"
   ]
  },
  {
   "cell_type": "code",
   "execution_count": 26,
   "metadata": {},
   "outputs": [],
   "source": [
    "def culminations(observer, body, time_range, kind='upper'):\n",
    "    \"\"\"Calculates data about upper and lower culminations.\n",
    "    \n",
    "    This function searches between ``min(time_range)`` and ``max(time_range)``\n",
    "    for times when `body`'s altitude reaches a local maximum or minimum. Finds\n",
    "    upper culminations only by default, but this can be changed with the \n",
    "    ``kind`` keyword.\n",
    "\n",
    "    Example\n",
    "    -------\n",
    "    >>> planets = load('de430t.bsp')\n",
    "    >>> sun = planets['sun']\n",
    "    >>> earth = planets['earth']\n",
    "    >>> greenwich = earth + Topos('51.5 N', '0 W')\n",
    "    >>> time_range = ts.utc(2017, 1, [1, 8])\n",
    "    >>> culminations(greenwich, sun, time_range)\n",
    "    \n",
    "    Arguments\n",
    "    ---------\n",
    "    observer : VectorSum or Topos\n",
    "        VectorSum of earth + Topos, or plain Topos object\n",
    "    body : Segment, VectorSum, or EarthSatellite\n",
    "        Vector representing the object whose culminations are being found\n",
    "    time_range : Time\n",
    "        The search interval is ``min(time_range)`` to ``max(time_range)``\n",
    "    kind : str\n",
    "        ``'upper'`` for local altitude maximums\n",
    "        ``'lower'`` for local altitude minimums\n",
    "        ``'all'`` for both upper and lower culminations\n",
    "        \n",
    "    Returns\n",
    "    -------\n",
    "    times : Time\n",
    "        Times of altitude maximums or minimums\n",
    "    \"\"\"\n",
    "    if _is_satellite(body):\n",
    "        if getattr(body, 'positives', ()):\n",
    "            body = body.positives[-1]\n",
    "        if not isinstance(observer, Topos):\n",
    "            observer = observer.positives[-1]\n",
    "        f = partial(_satellite_alt, observer, body)\n",
    "        period = tau/body.model.no/60/24 # days/orbit\n",
    "        partition_width = period * .35\n",
    "    else:\n",
    "        if isinstance(observer, Topos):\n",
    "            observer = body.ephemeris['earth'] + observer\n",
    "        f = partial(_alt, observer, body)\n",
    "        partition_width = .35\n",
    "     \n",
    "    start = min(time_range.tt)\n",
    "    end = max(time_range.tt)\n",
    "    partition_edges = list(arange(start, end, partition_width))\n",
    "    partition_edges.append(end)\n",
    "    \n",
    "    xtol = 1e-15\n",
    "    \n",
    "    if kind == 'all':\n",
    "        upper_times = _find_extremes(f, partition_edges, find='max', xtol=xtol)\n",
    "        lower_times = _find_extremes(f, partition_edges, xtol=xtol)\n",
    "        times = array(upper_times + lower_times)\n",
    "        times.sort()\n",
    "    elif kind == 'upper':\n",
    "        times = _find_extremes(f, partition_edges, find='max', xtol=xtol)\n",
    "    elif kind == 'lower':\n",
    "        times = _find_extremes(f, partition_edges, xtol=xtol)\n",
    "    else:\n",
    "        raise ValueError(\"kind must be 'all', 'upper', or 'lower'\")\n",
    "\n",
    "    return ts.tt(jd=times)"
   ]
  },
  {
   "cell_type": "markdown",
   "metadata": {},
   "source": [
    "Now it is very easy to find culminations. We can find the sun culminations at greenwich in the first week of 2018 like this:"
   ]
  },
  {
   "cell_type": "code",
   "execution_count": 27,
   "metadata": {},
   "outputs": [
    {
     "data": {
      "text/plain": [
       "['A.D. 2018-Jan-01 12:03:39.1925 UT',\n",
       " 'A.D. 2018-Jan-02 12:04:07.6404 UT',\n",
       " 'A.D. 2018-Jan-03 12:04:35.7315 UT',\n",
       " 'A.D. 2018-Jan-04 12:05:03.4409 UT',\n",
       " 'A.D. 2018-Jan-05 12:05:30.7436 UT',\n",
       " 'A.D. 2018-Jan-06 12:05:57.6165 UT',\n",
       " 'A.D. 2018-Jan-07 12:06:24.0316 UT']"
      ]
     },
     "execution_count": 27,
     "metadata": {},
     "output_type": "execute_result"
    }
   ],
   "source": [
    "times = culminations(greenwich, sun, ts.utc(2018, 1, [1,8]))\n",
    "times.utc_jpl()"
   ]
  },
  {
   "cell_type": "markdown",
   "metadata": {},
   "source": [
    "## Finding Risings and Settings\n",
    "\n",
    "We define a function that works similarly to `_find_extremes`, but instead finds roots:"
   ]
  },
  {
   "cell_type": "code",
   "execution_count": 28,
   "metadata": {},
   "outputs": [],
   "source": [
    "def _find_value(f, value, partition_edges, slope_at_zero='positive', xtol=1e-9):\n",
    "    \"\"\"Returns times when ``f`` is equal to ``value``.\n",
    "    \n",
    "    ``f`` can be sinusoidal, continuously increasing, or continuously \n",
    "    increasing with retrograde periods.\n",
    "    \n",
    "    A single partition should not contain both a zero and an extreme or \n",
    "    discontinuity. The function remaps f to -180 to 180 \n",
    "    degrees, so as long as the partitions are small enough that ``f`` doesn't \n",
    "    vary 180 degrees within a single partition, the partitions that contain \n",
    "    zeroes will not also have discontinuities. If it's possible for the zeroes \n",
    "    to be arbitrarily close to the extrema, then the times of the extrema \n",
    "    should be found and added to the list of partition edges.\n",
    "    \n",
    "    Arguments\n",
    "    ---------\n",
    "    f : function\n",
    "        The function to be searched. Should accept a single float as an \n",
    "        argument, and return a single string\n",
    "    value : float\n",
    "        The value to be found in f\n",
    "    partition_edges : list\n",
    "        A list of floats representing terrestrial times in jd format\n",
    "    slope_at_zero : str\n",
    "        ``'positive'`` to find zeros whose derivative is positive\n",
    "        ``'negative'`` to find zeros whose derivative is negative\n",
    "    xtol : float\n",
    "        Tolerance that will be used by the scipy finding function\n",
    "        \n",
    "    Returns\n",
    "    -------\n",
    "    times : list\n",
    "        List of t values where f(t) is ``value``\n",
    "    \"\"\"\n",
    "    # Shift f(t) vertically so that the values being searched for become roots,\n",
    "    # remap the angle to 0-360 degrees, and the if slope_at_zero='negative', \n",
    "    # reflect the function around the horizontal axis.\n",
    "    if slope_at_zero == 'positive':\n",
    "        g = lambda t: (f(t) - value + 180) % 360 - 180\n",
    "    elif slope_at_zero == 'negative':\n",
    "        g = lambda t: ((f(t) - value + 180) % 360 - 180) * -1\n",
    "\n",
    "    g_edges = g(partition_edges)\n",
    "\n",
    "    result_times = []\n",
    "    num_partitions = len(partition_edges) - 1\n",
    "    for i in range(num_partitions):\n",
    "        if g_edges[i] < 0 and g_edges[i+1] > 0:\n",
    "            t_left_edge = partition_edges[i]\n",
    "            t_right_edge = partition_edges[i+1]\n",
    "            result_time, info = brentq(g, t_left_edge, t_right_edge, xtol=xtol, full_output=True)\n",
    "            result_times.append(result_time)\n",
    "            if not info.converged:\n",
    "                warn('The root-finder failed to converge. xtol may me too small.')\n",
    "    return result_times"
   ]
  },
  {
   "cell_type": "markdown",
   "metadata": {},
   "source": [
    "`_find_value` iterates over partitions, finds partition where the sign changes, and uses `scipy.optimize.brentq` to find the time of the root. We can find the time of sunrises at greenwich during the first week of 2018 like this: (Sunrise occurs when the sun's center is 50 arc minutes below the horizon)"
   ]
  },
  {
   "cell_type": "code",
   "execution_count": 29,
   "metadata": {},
   "outputs": [
    {
     "data": {
      "text/plain": [
       "[2458119.838050181,\n",
       " 2458120.837963135,\n",
       " 2458121.837837341,\n",
       " 2458123.8374704993,\n",
       " 2458124.8372300174,\n",
       " 2458125.8369519142]"
      ]
     },
     "execution_count": 29,
     "metadata": {},
     "output_type": "execute_result"
    }
   ],
   "source": [
    "sun_altitude = partial(_alt, greenwich, sun)\n",
    "partition_edges = ts.utc(2018, 1, linspace(1,8,20)).tt\n",
    "\n",
    "_find_value(sun_altitude, -50/60, partition_edges)"
   ]
  },
  {
   "cell_type": "markdown",
   "metadata": {},
   "source": [
    "Just like we did with culminations, we will create a function that handles all of the cases for us:"
   ]
  },
  {
   "cell_type": "code",
   "execution_count": 30,
   "metadata": {},
   "outputs": [],
   "source": [
    "def risings_settings(observer, body, time_range, kind='all'):\n",
    "    \"\"\"Calculates data about when an object rises and sets.\n",
    "    \n",
    "    This function searches between ``min(time_range)`` and ``max(time_range)``\n",
    "    for times when `body`'s altitude (uncorrected for refraction) is -34 \n",
    "    arcminutes. The sun's and moon's upper limb is used rather than their \n",
    "    center.\n",
    "\n",
    "    Example\n",
    "    -------\n",
    "    >>> planets = load('de430t.bsp')\n",
    "    >>> sun = planets['sun']\n",
    "    >>> earth = planets['earth']\n",
    "    >>> greenwich = earth + Topos('51.5 N', '0 W')\n",
    "    >>> time_range = ts.utc(2017, 1, [1, 8])\n",
    "    >>> risings_settings(greenwich, sun, time_range, 'rise')\n",
    "    \n",
    "    Arguments\n",
    "    ---------\n",
    "    observer : VectorSum or Topos\n",
    "        VectorSum of earth + Topos, or plain Topos object\n",
    "    body : Segment or VectorSum\n",
    "        Vector representing the object whose rise/set times are being found\n",
    "    time_range : Time\n",
    "        The search interval is ``min(time_range)`` to ``max(time_range)``\n",
    "    kind : str\n",
    "        ``'all'`` for when ``body`` rises and sets\n",
    "        ``'rise'`` for when ``body`` rises\n",
    "        ``'set'`` for when ``body`` sets\n",
    "        \n",
    "    Returns\n",
    "    -------\n",
    "    times : Time\n",
    "        Times that `body` rises or sets\n",
    "    \"\"\"\n",
    "    if _is_satellite(body):\n",
    "        if getattr(body, 'positives', ()):\n",
    "            body = body.positives[-1]\n",
    "        if not isinstance(observer, Topos):\n",
    "            observer = observer.positives[-1]\n",
    "        f = partial(_satellite_alt, observer, body)\n",
    "        value = -34/60\n",
    "    elif body.target == 10:\n",
    "        if isinstance(observer, Topos):\n",
    "            observer = body.ephemeris['earth'] + observer\n",
    "        f = partial(_alt, observer, body)\n",
    "        value = -50/60\n",
    "    elif body.target == 301:\n",
    "        if isinstance(observer, Topos):\n",
    "            observer = body.ephemeris['earth'] + observer\n",
    "        earth = observer.ephemeris['earth']\n",
    "        f = partial(_moon_ul_alt, observer, earth, body)\n",
    "        value = -34/60\n",
    "    else:\n",
    "        if isinstance(observer, Topos):\n",
    "            observer = body.ephemeris['earth'] + observer\n",
    "        f = partial(_alt, observer, body)\n",
    "        value = -34/60\n",
    "    \n",
    "    start = min(time_range.tt)\n",
    "    end = max(time_range.tt)    \n",
    "    body_culminations = list(culminations(observer, body, time_range, kind='all').tt)\n",
    "    partition_edges = [start] + body_culminations + [end]\n",
    "    \n",
    "    if kind == 'all':\n",
    "        rise_times = _find_value(f, value, partition_edges)\n",
    "        set_times = _find_value(f, value, partition_edges, slope_at_zero='negative')\n",
    "        times = array(rise_times + set_times)\n",
    "        times.sort()\n",
    "    elif kind == 'rise':\n",
    "        times = _find_value(f, value, partition_edges)\n",
    "    elif kind == 'set':\n",
    "        times = _find_value(f, value, partition_edges, slope_at_zero='negative')\n",
    "    else:\n",
    "        raise ValueError(\"kind must be 'all', 'rise', or 'set'\")\n",
    "    \n",
    "    return ts.tt(jd=times)"
   ]
  },
  {
   "cell_type": "markdown",
   "metadata": {},
   "source": [
    "`risings_settings` takes care of the following things for us:\n",
    "\n",
    "* Creating the partial function from either `_alt`, `_moon_ul_alt`, or `_satellite_alt`\n",
    "* Calculating `partition_edges`\n",
    "* Finding the correct value of altitude at rising/setting\n",
    "* Calling `_find_value` multiple times if you want risings and settings\n",
    "\n",
    "You might notice that `risings_settings` includes culminations of `body` in the list of partition edges. This is to deal with the case when `body` just peeks above the horizon and then sets shortly after. If the risings and setting end up in the same partition, the root finder will have issues, it expects there to be at most one root in each partition. But if we make the culminations (upper and lower) into partition edges the risings and settings will be split into different partitions no matter how close they are to each other.\n",
    "\n",
    "Here's how we can find sunrises at greenwich now:"
   ]
  },
  {
   "cell_type": "code",
   "execution_count": 31,
   "metadata": {},
   "outputs": [
    {
     "data": {
      "text/plain": [
       "['A.D. 2018-Jan-01 08:05:38.3516 UT',\n",
       " 'A.D. 2018-Jan-02 08:05:30.8308 UT',\n",
       " 'A.D. 2018-Jan-03 08:05:19.9622 UT',\n",
       " 'A.D. 2018-Jan-04 08:05:05.7666 UT',\n",
       " 'A.D. 2018-Jan-05 08:04:48.2671 UT',\n",
       " 'A.D. 2018-Jan-06 08:04:27.4894 UT',\n",
       " 'A.D. 2018-Jan-07 08:04:03.4613 UT']"
      ]
     },
     "execution_count": 31,
     "metadata": {},
     "output_type": "execute_result"
    }
   ],
   "source": [
    "times = risings_settings(greenwich, sun, ts.utc(2018, 1, [1,8]), kind='rise')\n",
    "\n",
    "times.utc_jpl()"
   ]
  },
  {
   "cell_type": "markdown",
   "metadata": {},
   "source": [
    "These times round correctly to match those from the USNO website:\n",
    "\n",
    "http://aa.usno.navy.mil/cgi-bin/aa_rstablew.pl?ID=AA&year=2018&task=0&place=Greenwich&lon_sign=-1&lon_deg=0&lon_min=0&lat_sign=1&lat_deg=51&lat_min=30&tz=&tz_sign=-1"
   ]
  },
  {
   "cell_type": "markdown",
   "metadata": {},
   "source": [
    "## Examples of Use\n",
    "\n",
    "Now lets have some fun!"
   ]
  },
  {
   "cell_type": "markdown",
   "metadata": {},
   "source": [
    "### Plot culminations, Risings and Settings on altitude curve\n",
    "\n"
   ]
  },
  {
   "cell_type": "code",
   "execution_count": 32,
   "metadata": {},
   "outputs": [
    {
     "data": {
      "image/png": "[encoded data removed]",
      "text/plain": [
       "<matplotlib.figure.Figure at 0x19ffae31f98>"
      ]
     },
     "metadata": {},
     "output_type": "display_data"
    }
   ],
   "source": [
    "import matplotlib.pyplot as plt\n",
    "%matplotlib inline\n",
    "\n",
    "time_range = ts.utc(2018, 1, linspace(1, 4, 200))\n",
    "rise_times = risings_settings(greenwich, sun, time_range, kind='rise')\n",
    "set_times = risings_settings(greenwich, sun, time_range, kind='set')\n",
    "upper_times = culminations(greenwich, sun, time_range)\n",
    "lower_times = culminations(greenwich, sun, time_range, kind='lower')\n",
    "\n",
    "altitudes = greenwich.at(time_range).observe(sun).apparent().altaz('standard')[0]\n",
    "rise_alts = greenwich.at(rise_times).observe(sun).apparent().altaz('standard')[0]\n",
    "set_alts = greenwich.at(set_times).observe(sun).apparent().altaz('standard')[0]\n",
    "upper_alts = greenwich.at(upper_times).observe(sun).apparent().altaz('standard')[0]\n",
    "lower_alts = greenwich.at(lower_times).observe(sun).apparent().altaz('standard')[0]\n",
    "\n",
    "fig, ax = plt.subplots()\n",
    "\n",
    "box = ax.get_position()\n",
    "ax.set_position([box.x0, box.y0, box.width * 0.8, box.height])\n",
    "\n",
    "ax.plot(time_range.tt, altitudes.degrees)\n",
    "ax.scatter(rise_times.tt, rise_alts.degrees, label='Sunrise')\n",
    "ax.scatter(set_times.tt, set_alts.degrees, label='Sunset')\n",
    "ax.scatter(upper_times.tt, upper_alts.degrees, label='Upper Culmination')\n",
    "ax.scatter(lower_times.tt, lower_alts.degrees, label='Lower Culmination')\n",
    "\n",
    "ax.set_title(\"Sun's Altitude in Greenwich, England\")\n",
    "ax.set_ylabel('Altitude, with Refraction (degrees)')\n",
    "ax.set_xlabel('Date')\n",
    "label_times = ts.utc(2018, 1, arange(1, 5))\n",
    "ax.set_xticks(label_times.tt)\n",
    "ax.set_xticklabels([x[10:22] for x in label_times.utc_jpl()], {'rotation':-50})\n",
    "ax.legend(loc='center left', bbox_to_anchor=(1, 0.5))\n",
    "plt.grid()\n",
    "\n",
    "plt.show()"
   ]
  },
  {
   "cell_type": "markdown",
   "metadata": {},
   "source": [
    "### Plotting Culminations, Risings, and Settings of the ISS\n",
    "\n",
    "We can do the same thing with an `EarthSatellite` object:"
   ]
  },
  {
   "cell_type": "code",
   "execution_count": 33,
   "metadata": {},
   "outputs": [
    {
     "data": {
      "image/png": "[encoded data removed]",
      "text/plain": [
       "<matplotlib.figure.Figure at 0x19fee8ab5f8>"
      ]
     },
     "metadata": {},
     "output_type": "display_data"
    }
   ],
   "source": [
    "time_range = ts.utc(2018, 3, 18, linspace(0, 16, 1000))\n",
    "rise_times = risings_settings(greenwich, ISS, time_range, kind='rise')\n",
    "set_times = risings_settings(greenwich, ISS, time_range, kind='set')\n",
    "upper_times = culminations(greenwich, ISS, time_range)\n",
    "lower_times = culminations(greenwich, ISS, time_range, kind='lower')\n",
    "\n",
    "geometric_vector = ISS - greenwich\n",
    "\n",
    "altitudes = geometric_vector.at(time_range).altaz('standard')[0]\n",
    "rise_alts = geometric_vector.at(rise_times).altaz('standard')[0]\n",
    "set_alts = geometric_vector.at(set_times).altaz('standard')[0]\n",
    "upper_alts = geometric_vector.at(upper_times).altaz('standard')[0]\n",
    "lower_alts = geometric_vector.at(lower_times).altaz('standard')[0]\n",
    "\n",
    "fig, ax = plt.subplots()\n",
    "\n",
    "box = ax.get_position()\n",
    "ax.set_position([box.x0, box.y0, box.width * 0.8, box.height])\n",
    "\n",
    "ax.plot(time_range.tt, altitudes.degrees)\n",
    "ax.scatter(rise_times.tt, rise_alts.degrees, label='Rise')\n",
    "ax.scatter(set_times.tt, set_alts.degrees, label='Set')\n",
    "ax.scatter(upper_times.tt, upper_alts.degrees, label='Upper Culmination')\n",
    "ax.scatter(lower_times.tt, lower_alts.degrees, label='Lower Culmination')\n",
    "\n",
    "ax.set_title(\"ISS Altitude from Greenwich, England, 3/18/2018\")\n",
    "ax.set_ylabel('Altitude, with Refraction (degrees)')\n",
    "ax.set_xlabel('Time')\n",
    "label_times = ts.utc(2018, 3, 18, arange(0, 17, 2))\n",
    "ax.set_xticks(label_times.tt)\n",
    "ax.set_xticklabels([x[17:22] for x in label_times.utc_jpl()], {'rotation':-50})\n",
    "ax.legend(loc='center left', bbox_to_anchor=(1, 0.5))\n",
    "plt.grid()\n",
    "\n",
    "plt.show()"
   ]
  },
  {
   "cell_type": "markdown",
   "metadata": {},
   "source": [
    "### Plot change in the sun's azimuth at sunrise over time"
   ]
  },
  {
   "cell_type": "code",
   "execution_count": 34,
   "metadata": {},
   "outputs": [],
   "source": [
    "time_range = ts.utc(2018, arange(0,8))\n",
    "\n",
    "sunrise_times = risings_settings(greenwich, sun, time_range, kind='rise')"
   ]
  },
  {
   "cell_type": "code",
   "execution_count": 35,
   "metadata": {},
   "outputs": [
    {
     "data": {
      "image/png": "[encoded data removed]",
      "text/plain": [
       "<matplotlib.figure.Figure at 0x19ffb315ac8>"
      ]
     },
     "metadata": {},
     "output_type": "display_data"
    }
   ],
   "source": [
    "azimuths = greenwich.at(sunrise_times).observe(sun).apparent().altaz()[1]\n",
    "\n",
    "fig, ax = plt.subplots()\n",
    "ax.plot(sunrise_times.tt, azimuths.degrees)\n",
    "ax.set_title(\"Sun's Azimuth at Sunrise in Greenwich, England\")\n",
    "ax.set_ylabel('Azimuth (degrees)')\n",
    "ax.set_xlabel('Date')\n",
    "ax.set_xticks(time_range.tt)\n",
    "ax.set_xticklabels([x[10:16] for x in time_range.utc_jpl()], {'rotation':-50})\n",
    "plt.grid()\n",
    "plt.show()"
   ]
  },
  {
   "cell_type": "markdown",
   "metadata": {},
   "source": [
    "## Tests\n",
    "Here are three functions that we can use for testing the times returned by these `culminations` and `settings_risings`. The first is `compare`, which is basically identical to the the `compare` function from the Skyfield tests. The other two require more explanation.\n",
    "\n",
    "`is_root` tests a scalar time or a vector of times and determines if the target value f(t) is between f(t + epsilon) and f(t - epsilon). Returns true if all timees are a root within epsilon.\n",
    "\n",
    "`is extreme` tests a scalar time or a vector of times and determines if both f(t + epsilon) and f(t - epsilon) are both below f(t), (meaning t is a local maximum) or if they are both above f(t) (meaning t is a local minimum). Returns true if all times are either a minimum or maximum within epsilon."
   ]
  },
  {
   "cell_type": "code",
   "execution_count": 36,
   "metadata": {},
   "outputs": [],
   "source": [
    "def compare(value, expected_value, epsilon):\n",
    "    if hasattr(value, '__len__') or hasattr(expected_value, '__len__'):\n",
    "        assert max(abs(value - expected_value)) <= epsilon\n",
    "    else:\n",
    "        assert abs(value - expected_value) <= epsilon\n",
    "\n",
    "\n",
    "def is_root(f, times, target_f, epsilon):\n",
    "    left_times = times - epsilon\n",
    "    right_times = times + epsilon\n",
    "    left_f = (f(left_times) - target_f + 180)%360 - 180\n",
    "    right_f = (f(right_times) - target_f + 180)%360 - 180\n",
    "    \n",
    "    success_increasing = (left_f <= 0) * (right_f >= 0)\n",
    "    success_decreasing = (left_f >= 0) * (right_f <= 0)\n",
    "    success = success_increasing + success_decreasing\n",
    "    \n",
    "    if isinstance(success, ndarray):\n",
    "        return success.all()\n",
    "    else:\n",
    "        return success\n",
    "\n",
    "    \n",
    "def is_extreme(f, times, epsilon):\n",
    "    left_times = times - epsilon\n",
    "    right_times = times + epsilon\n",
    "    center_f = f(times)\n",
    "    left_f = (f(left_times) - center_f + 180)%360 - 180\n",
    "    right_f = (f(right_times) - center_f + 180)%360 - 180\n",
    "    \n",
    "    is_max = (left_f <= 0) * (right_f <= 0)\n",
    "    is_min = (left_f >= 0) * (right_f >= 0)\n",
    "    success = is_max + is_min\n",
    "    \n",
    "    if isinstance(success, ndarray):\n",
    "        return success.all()\n",
    "    else:\n",
    "        return success"
   ]
  },
  {
   "cell_type": "markdown",
   "metadata": {},
   "source": [
    "Now we can use these functions to test `culminations` and `risings_settings` with the sun, moon, and ISS. I don't know of any official data for culmination times to test against."
   ]
  },
  {
   "cell_type": "code",
   "execution_count": 37,
   "metadata": {},
   "outputs": [
    {
     "name": "stdout",
     "output_type": "stream",
     "text": [
      "pass\n",
      "pass\n",
      "pass\n"
     ]
    }
   ],
   "source": [
    "minute = 1/24/60\n",
    "sec = minute/60\n",
    "ms = sec/1000\n",
    "\n",
    "def test_sun_culminations():\n",
    "    time_range = ts.utc(2017, 1, [1, 32])\n",
    "    times = culminations(greenwich, sun, time_range, 'all')\n",
    "    \n",
    "    assert isinstance(times, Time)\n",
    "    assert len(times) == 62\n",
    "    \n",
    "    upper_times = culminations(greenwich, sun, time_range, 'upper')\n",
    "    lower_times = culminations(greenwich, sun, time_range, 'lower')\n",
    "    all_times = concatenate([upper_times.tt, lower_times.tt])\n",
    "    all_times.sort()\n",
    "    assert (times.tt == all_times).all()\n",
    "    \n",
    "    # Check that the found times produce the correct data\n",
    "    f = partial(_alt, greenwich, sun)        \n",
    "    assert is_extreme(f, times.tt, 2*ms)\n",
    "    \n",
    "    # Check that same result is found if plain Topos is used as observer\n",
    "    times2 = culminations(greenwich.positives[-1], sun, time_range, 'all')\n",
    "    assert (times.tt == times2.tt).all()\n",
    "    print('pass')\n",
    "    \n",
    "    \n",
    "def test_moon_culminations():\n",
    "    time_range = ts.utc(2017, 1, [1, 32])\n",
    "    times = culminations(greenwich, moon, time_range, 'all')\n",
    "    \n",
    "    assert isinstance(times, Time)\n",
    "    assert len(times) == 60\n",
    "    \n",
    "    upper_times = culminations(greenwich, moon, time_range, 'upper')\n",
    "    lower_times = culminations(greenwich, moon, time_range, 'lower')\n",
    "    all_times = concatenate([upper_times.tt, lower_times.tt])\n",
    "    all_times.sort()\n",
    "    assert (times.tt == all_times).all()\n",
    "\n",
    "    # Check that the found times produce the correct data\n",
    "    f = partial(_alt, greenwich, moon)    \n",
    "    assert is_extreme(f, times.tt, 6*ms)\n",
    "    \n",
    "    # Check that same result is found if plain Topos is used as observer\n",
    "    times2 = culminations(greenwich.positives[-1], moon, time_range, 'all')\n",
    "    assert (times.tt == times2.tt).all()\n",
    "    print('pass')\n",
    "    \n",
    "\n",
    "def test_ISS_culminations():\n",
    "    time_range = ts.utc(2017, 1, [1, 2])\n",
    "    times = culminations(greenwich, ISS, time_range, 'all')\n",
    "    \n",
    "    assert isinstance(times, Time)\n",
    "    assert len(times) == 31\n",
    "\n",
    "    upper_times = culminations(greenwich, ISS, time_range, 'upper')\n",
    "    lower_times = culminations(greenwich, ISS, time_range, 'lower')\n",
    "    all_times = concatenate([upper_times.tt, lower_times.tt])\n",
    "    all_times.sort()\n",
    "    assert (times.tt == all_times).all()\n",
    "\n",
    "    # Check that the found times produce the correct data\n",
    "    f = partial(_satellite_alt, greenwich.positives[-1], ISS.positives[-1])\n",
    "    assert is_extreme(f, times.tt, 2*ms)\n",
    "    print('pass')\n",
    "    \n",
    "test_sun_culminations()\n",
    "test_moon_culminations()\n",
    "test_ISS_culminations()"
   ]
  },
  {
   "cell_type": "markdown",
   "metadata": {},
   "source": [
    "Official sunrise/set and moonrise/set times are available from the USNO. Here are links to sources of the data that are used below:\n",
    "\n",
    "* http://aa.usno.navy.mil/cgi-bin/aa_rstablew.pl?ID=AA&year=2017&task=0&place=Greenwich&lon_sign=-1&lon_deg=0&lon_min=0&lat_sign=1&lat_deg=51&lat_min=30&tz=&tz_sign=-1\n",
    "* http://aa.usno.navy.mil/cgi-bin/aa_rstablew.pl?ID=AA&year=2017&task=1&place=Greenwich&lon_sign=-1&lon_deg=0&lon_min=0&lat_sign=1&lat_deg=51&lat_min=30&tz=&tz_sign=-1\n"
   ]
  },
  {
   "cell_type": "code",
   "execution_count": 38,
   "metadata": {},
   "outputs": [
    {
     "name": "stdout",
     "output_type": "stream",
     "text": [
      "pass\n",
      "pass\n",
      "pass\n"
     ]
    }
   ],
   "source": [
    "# Data Source:\n",
    "# http://aa.usno.navy.mil/cgi-bin/aa_rstablew.pl?ID=AA&year=2017&task=0&place=Greenwich&lon_sign=-1&lon_deg=0&lon_min=0&lat_sign=1&lat_deg=51&lat_min=30&tz=&tz_sign=-1\n",
    "def test_sun_risings_settings():\n",
    "    time_range = ts.utc(2017, 1, [1, 32])    \n",
    "    times = risings_settings(greenwich, sun, time_range)\n",
    "    \n",
    "    assert isinstance(times, Time)\n",
    "    assert len(times) == 62\n",
    "    \n",
    "    compare(times[0].tt, ts.utc(2017, 1, 1, 8, 6).tt, minute/2)\n",
    "    \n",
    "    rise_times = risings_settings(greenwich, sun, time_range, 'rise')\n",
    "    set_times = risings_settings(greenwich, sun, time_range, 'set')\n",
    "    all_times = concatenate([rise_times.tt, set_times.tt])\n",
    "    all_times.sort()\n",
    "    assert (times.tt == all_times).all()\n",
    "    \n",
    "    # Check that the found times produce the correct data    \n",
    "    f = partial(_alt, greenwich, sun)\n",
    "    assert is_root(f, times.tt, -50/60, ms/2)\n",
    "    \n",
    "    # Check that same result is found if plain Topos is used as observer\n",
    "    times2 = risings_settings(greenwich.positives[-1], sun, time_range)\n",
    "    assert (times.tt == times2.tt).all()\n",
    "    print('pass')\n",
    "\n",
    "\n",
    "# Data Source:   \n",
    "# http://aa.usno.navy.mil/cgi-bin/aa_rstablew.pl?ID=AA&year=2017&task=1&place=Greenwich&lon_sign=-1&lon_deg=0&lon_min=0&lat_sign=1&lat_deg=51&lat_min=30&tz=&tz_sign=-1\n",
    "def test_moon_risings_settings():\n",
    "    time_range = ts.utc(2017, 1, [1, 32])\n",
    "    times = risings_settings(greenwich, moon, time_range)\n",
    "    \n",
    "    assert isinstance(times, Time)\n",
    "    assert len(times) == 60\n",
    "    \n",
    "    compare(times[0].tt, ts.utc(2017, 1, 1, 9, 46).tt, minute/2)\n",
    "    \n",
    "    rise_times = risings_settings(greenwich, moon, time_range, 'rise')\n",
    "    set_times = risings_settings(greenwich, moon, time_range, 'set')\n",
    "    all_times = concatenate([rise_times.tt, set_times.tt])\n",
    "    all_times.sort()\n",
    "    assert (times.tt == all_times).all() \n",
    "    \n",
    "    # Check that the found times produce the correct data\n",
    "    f = partial(_moon_ul_alt, greenwich, earth, moon)\n",
    "    assert is_root(f, times.tt, -34/60, ms/2)\n",
    "    \n",
    "    # Check that same result is found if plain Topos is used as observer\n",
    "    times2 = risings_settings(greenwich.positives[-1], moon, time_range)\n",
    "    assert (times.tt == times2.tt).all()\n",
    "    print('pass')\n",
    "    \n",
    "    \n",
    "def test_ISS_risings_settings():\n",
    "    time_range = ts.utc(2017, 1, [1, 2])\n",
    "    times = risings_settings(greenwich, ISS, time_range)\n",
    "    \n",
    "    assert isinstance(times, Time)\n",
    "    assert len(times) == 12\n",
    "    \n",
    "    rise_times = risings_settings(greenwich, ISS, time_range, 'rise')\n",
    "    set_times = risings_settings(greenwich, ISS, time_range, 'set')\n",
    "    all_times = concatenate([rise_times.tt, set_times.tt])\n",
    "    all_times.sort()\n",
    "    assert (times.tt == all_times).all() \n",
    "    \n",
    "    # Check that the found times produce the correct data\n",
    "    f = partial(_satellite_alt, greenwich.positives[-1], ISS.positives[-1])\n",
    "    assert is_root(f, times.tt, -34/60, ms/2)\n",
    "    print('pass')\n",
    "    \n",
    "test_sun_risings_settings()\n",
    "test_moon_risings_settings()\n",
    "test_ISS_risings_settings()"
   ]
  },
  {
   "cell_type": "code",
   "execution_count": null,
   "metadata": {},
   "outputs": [],
   "source": []
  }
 ],
 "metadata": {
  "kernelspec": {
   "display_name": "Python 3",
   "language": "python",
   "name": "python3"
  },
  "language_info": {
   "codemirror_mode": {
    "name": "ipython",
    "version": 3
   },
   "file_extension": ".py",
   "mimetype": "text/x-python",
   "name": "python",
   "nbconvert_exporter": "python",
   "pygments_lexer": "ipython3",
   "version": "3.6.3"
  }
 },
 "nbformat": 4,
 "nbformat_minor": 2
}
